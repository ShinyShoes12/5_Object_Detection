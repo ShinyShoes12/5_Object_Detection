{
  "nbformat": 4,
  "nbformat_minor": 0,
  "metadata": {
    "colab": {
      "name": "Realtime_custom_Object_Detection.ipynb",
      "provenance": [],
      "collapsed_sections": []
    },
    "kernelspec": {
      "name": "python3",
      "display_name": "Python 3"
    },
    "language_info": {
      "name": "python"
    },
    "accelerator": "GPU"
  },
  "cells": [
    {
      "cell_type": "markdown",
      "metadata": {
        "id": "9MOoWsmF8Dyv"
      },
      "source": [
        "# Object Detection in colab : Training"
      ]
    },
    {
      "cell_type": "markdown",
      "metadata": {
        "id": "Xk4O85ur8dTn"
      },
      "source": [
        "##1 . Check out : GPU"
      ]
    },
    {
      "cell_type": "code",
      "metadata": {
        "id": "Zg_AVj-nu4bX"
      },
      "source": [
        "!nvidia-smi"
      ],
      "execution_count": null,
      "outputs": []
    },
    {
      "cell_type": "markdown",
      "metadata": {
        "id": "2nQ-lKls8lin"
      },
      "source": [
        "##2. Mount Google Drive"
      ]
    },
    {
      "cell_type": "code",
      "metadata": {
        "id": "hmtykSzTeQ01"
      },
      "source": [
        "from google.colab import drive\n",
        "drive.mount('/content/drive')"
      ],
      "execution_count": null,
      "outputs": []
    },
    {
      "cell_type": "markdown",
      "metadata": {
        "id": "-0PP4o_s88De"
      },
      "source": [
        "##3. Unzip picture_data\n",
        "(for train&test)"
      ]
    },
    {
      "cell_type": "code",
      "metadata": {
        "id": "pbDwjkI_KeqM"
      },
      "source": [
        "%cd /content/drive/MyDrive\n",
        "!mkdir yolo_custom_model_Training"
      ],
      "execution_count": null,
      "outputs": []
    },
    {
      "cell_type": "code",
      "metadata": {
        "id": "oTO7mCXwfK0l"
      },
      "source": [
        "!ls '/content/drive/MyDrive/yolo_custom_model_Training'"
      ],
      "execution_count": null,
      "outputs": []
    },
    {
      "cell_type": "code",
      "metadata": {
        "id": "YBQSWe2ZfrBY"
      },
      "source": [
        "!unzip '/content/drive/MyDrive/yolo_custom_model_Training/custom_data.zip' -d '/content/drive/MyDrive/yolo_custom_model_Training'"
      ],
      "execution_count": null,
      "outputs": []
    },
    {
      "cell_type": "markdown",
      "metadata": {
        "id": "5pAOFlfS9hpf"
      },
      "source": [
        "##4. Get AlexeyAB/darknet\n",
        "(github opensource)\n"
      ]
    },
    {
      "cell_type": "code",
      "metadata": {
        "id": "O4C67IgR_R9f"
      },
      "source": [
        "%pwd"
      ],
      "execution_count": null,
      "outputs": []
    },
    {
      "cell_type": "code",
      "metadata": {
        "id": "TiMaPiMihGkk"
      },
      "source": [
        "# download dataset in current directory(above path)\n",
        "!git clone 'https://github.com/AlexeyAB/darknet.git' '/content/drive/MyDrive/yolo_custom_model_Training/darknet'"
      ],
      "execution_count": null,
      "outputs": []
    },
    {
      "cell_type": "code",
      "metadata": {
        "id": "bbQ56jRYjFqh"
      },
      "source": [
        "# move current directory to darknet\n",
        "%cd /content/drive/MyDrive/yolo_custom_model_Training/darknet"
      ],
      "execution_count": null,
      "outputs": []
    },
    {
      "cell_type": "code",
      "metadata": {
        "id": "eGmEZFL4AD_H"
      },
      "source": [
        "# change setting values in 'Makefile' file \n",
        "!sed -i 's/OPENCV=0/OPENCV=1/' Makefile\n",
        "!sed -i 's/GPU=0/GPU=1/' Makefile\n",
        "!sed -i 's/CUDNN=0/CUDNN=1/' Makefile\n",
        "!sed -i 's/CUDNN_HALF=0/CUDNN_HALF=1/' Makefile\n",
        "!sed -i 's/LIBSO=0/LIBSO=1/' Makefile"
      ],
      "execution_count": null,
      "outputs": []
    },
    {
      "cell_type": "code",
      "metadata": {
        "id": "rdhCBEgh6pFU"
      },
      "source": [
        "# Compile model\n",
        "\"\"\"  take care do not disconnect : file directory may be interupted \n",
        "if your network down during compile, I recommend delete darknet folder and restart number 4(get AlexeyAB/darknet)\"\"\"\n",
        "\n",
        "!make"
      ],
      "execution_count": null,
      "outputs": []
    },
    {
      "cell_type": "code",
      "metadata": {
        "id": "8mlV7M6wKv5G"
      },
      "source": [
        "%cd ..\n",
        "!darknet/darknet"
      ],
      "execution_count": null,
      "outputs": []
    },
    {
      "cell_type": "markdown",
      "metadata": {
        "id": "brhk4kIgCEZv"
      },
      "source": [
        "##5. Create Train&Test dataset"
      ]
    },
    {
      "cell_type": "code",
      "metadata": {
        "id": "lHvukP9X0CgD"
      },
      "source": [
        "!git clone 'https://github.com/jakkcoder/training_yolo_custom_object_detection_files' '/content/drive/MyDrive/yolo_custom_model_Training/training_yolo_custom_object_detection_files-main'"
      ],
      "execution_count": null,
      "outputs": []
    },
    {
      "cell_type": "code",
      "metadata": {
        "id": "-hcu7VpQ2WYD"
      },
      "source": [
        "%cd /content/drive/MyDrive/yolo_custom_model_Training/training_yolo_custom_object_detection_files-main"
      ],
      "execution_count": null,
      "outputs": []
    },
    {
      "cell_type": "code",
      "metadata": {
        "id": "t0dEcZEfTUGO"
      },
      "source": [
        "# check out current dir files\n",
        "!ls"
      ],
      "execution_count": null,
      "outputs": []
    },
    {
      "cell_type": "code",
      "metadata": {
        "id": "dyuUlZwvPwNX"
      },
      "source": [
        "# copy creating-train-and-test-txt-files.py & creating-files-data-and-name.py\n",
        "\"\"\"creating-train-and-test-txt-files.py >> create 'train.txt' & 'test.txt' files\n",
        "   creating-files-data-and-name.py >> create label 'labelled_data.data' file\n",
        "   <if you excute both .py files, you get mentioned files upper lines 2,3>\"\"\"\n",
        "\n",
        "!cp creating-train-and-test-txt-files.py /content/drive/MyDrive/yolo_custom_model_Training/custom_data\n",
        "!cp creating-files-data-and-name.py /content/drive/MyDrive/yolo_custom_model_Training/custom_data"
      ],
      "execution_count": null,
      "outputs": []
    },
    {
      "cell_type": "code",
      "metadata": {
        "id": "Jzp6xnBjUbBR"
      },
      "source": [
        "%cd /content/drive/MyDrive/yolo_custom_model_Training/custom_data"
      ],
      "execution_count": null,
      "outputs": []
    },
    {
      "cell_type": "code",
      "metadata": {
        "id": "mtzIm-S6UtaQ"
      },
      "source": [
        "# change paths in both .py files\n",
        "!sed -i '39 s@/home/my_name/Downloads/video-to-annotate@custom_data@' creating-train-and-test-txt-files.py\n",
        "!sed -i '74 s@jpeg@jpg@' creating-train-and-test-txt-files.py\n",
        "!sed -i '36 s@/home/my_name/Downloads/video-to-annotate@custom_data@' creating-files-data-and-name.py"
      ],
      "execution_count": null,
      "outputs": []
    },
    {
      "cell_type": "code",
      "metadata": {
        "id": "Rus9Fdx7rfgu"
      },
      "source": [
        "# move current dir one step before\n",
        "%cd .."
      ],
      "execution_count": null,
      "outputs": []
    },
    {
      "cell_type": "code",
      "metadata": {
        "id": "rXqTyLaYnOYP"
      },
      "source": [
        "# excute .py file >> 'train.txt', 'test.txt'   \n",
        "!python custom_data/creating-train-and-test-txt-files.py"
      ],
      "execution_count": null,
      "outputs": []
    },
    {
      "cell_type": "code",
      "metadata": {
        "id": "vN00huYpn39S"
      },
      "source": [
        "# excute .py file >> 'labelled_data.data'\n",
        "!python custom_data/creating-files-data-and-name.py"
      ],
      "execution_count": null,
      "outputs": []
    },
    {
      "cell_type": "markdown",
      "metadata": {
        "id": "SNP-ZsVWGO-7"
      },
      "source": [
        "##6. Setting diretory & values\n",
        "(yolov4.conv.137 & yolov4_custom.cfg)"
      ]
    },
    {
      "cell_type": "markdown",
      "metadata": {
        "id": "twOUiYFQICb7"
      },
      "source": [
        "###6.1 pre-trained model"
      ]
    },
    {
      "cell_type": "code",
      "metadata": {
        "id": "FTS1JTGHvpL1"
      },
      "source": [
        "# create directory 'custom_weight'\n",
        "!mkdir custom_weight"
      ],
      "execution_count": null,
      "outputs": []
    },
    {
      "cell_type": "code",
      "metadata": {
        "id": "h18-RxP4vpDt"
      },
      "source": [
        "# move 'yolov4.conv.137' file to 'custom_weight' dir\n",
        "!mv yolov4.conv.137 custom_weight/"
      ],
      "execution_count": null,
      "outputs": []
    },
    {
      "cell_type": "markdown",
      "metadata": {
        "id": "TaEl4Py6IQU2"
      },
      "source": [
        "###6.2 change values"
      ]
    },
    {
      "cell_type": "code",
      "metadata": {
        "id": "0OcK35mHyuT1"
      },
      "source": [
        "%cd /content/drive/MyDrive/yolo_custom_model_Training/darknet/cfg"
      ],
      "execution_count": null,
      "outputs": []
    },
    {
      "cell_type": "code",
      "metadata": {
        "id": "b3W14PEu097d"
      },
      "source": [
        "# copy yolov4.cfg file & rename & paste\n",
        "!cp yolov4.cfg yolov4_custom.cfg"
      ],
      "execution_count": null,
      "outputs": []
    },
    {
      "cell_type": "code",
      "metadata": {
        "id": "6lO6QzLOyPC4"
      },
      "source": [
        "# change values for training\n",
        "!sed -i '2 s@batch=64@batch=8@' yolov4_custom.cfg\n",
        "\n",
        "!sed -i '7 s@width=608@width=416@' yolov4_custom.cfg\n",
        "!sed -i '8 s@height=608@height=416@' yolov4_custom.cfg  \n",
        "\n",
        "!sed -i '19 s@500500@10000@' yolov4_custom.cfg  #maxbatch=class*2000\n",
        "!sed -i '21 s@400000,450000@8000,9000@' yolov4_custom.cfg  #maxbatch*0.8, maxbatch*0.9\n",
        "\n",
        "!sed -i '968 s@classes=80@classes=5@' yolov4_custom.cfg\n",
        "!sed -i '1056 s@classes=80@classes=5@' yolov4_custom.cfg\n",
        "!sed -i '1144 s@classes=80@classes=5@' yolov4_custom.cfg\n",
        "\n",
        "!sed -i '961 s@filters=255@filters=30@' yolov4_custom.cfg  #filters=(4+1+classes)*3 \n",
        "!sed -i '1049 s@filters=255@filters=30@' yolov4_custom.cfg\n",
        "!sed -i '1137 s@filters=255@filters=30@' yolov4_custom.cfg"
      ],
      "execution_count": null,
      "outputs": []
    },
    {
      "cell_type": "markdown",
      "metadata": {
        "id": "FDeOA5HUJtme"
      },
      "source": [
        "###6.3 create back dir"
      ]
    },
    {
      "cell_type": "code",
      "metadata": {
        "id": "7Og8ULiuVMHP"
      },
      "source": [
        "%cd /content/drive/MyDrive/yolo_custom_model_Training"
      ],
      "execution_count": null,
      "outputs": []
    },
    {
      "cell_type": "code",
      "metadata": {
        "id": "5Egm7C0aVGW_"
      },
      "source": [
        "!mkdir backup"
      ],
      "execution_count": null,
      "outputs": []
    },
    {
      "cell_type": "markdown",
      "metadata": {
        "id": "yqxIuGROKQWo"
      },
      "source": [
        "##7. Train the model \n"
      ]
    },
    {
      "cell_type": "code",
      "metadata": {
        "id": "mvfDkPYbKztW"
      },
      "source": [
        "%cd /content/drive/MyDrive/yolo_custom_model_Training"
      ],
      "execution_count": null,
      "outputs": []
    },
    {
      "cell_type": "code",
      "metadata": {
        "id": "AeJNXPqYrIQ4"
      },
      "source": [
        "!darknet/darknet detector train custom_data/labelled_data.data darknet/cfg/yolov4_custom.cfg custom_weight/yolov4.conv.137 -dont_show"
      ],
      "execution_count": null,
      "outputs": []
    },
    {
      "cell_type": "markdown",
      "metadata": {
        "id": "Q7RCGk1tJTNK"
      },
      "source": [
        "#Webcam object detection"
      ]
    },
    {
      "cell_type": "markdown",
      "metadata": {
        "id": "1KL6ItG7Jw5A"
      },
      "source": [
        "##8. Check performance"
      ]
    },
    {
      "cell_type": "code",
      "metadata": {
        "id": "7DEIrD4I-rAq"
      },
      "source": [
        "# define helper function imShow\n",
        "def imShow(path):\n",
        "  import cv2\n",
        "  import matplotlib.pyplot as plt\n",
        "  %matplotlib inline\n",
        "\n",
        "  image = cv2.imread(path)\n",
        "  height, width = image.shape[:2]\n",
        "  resized_image = cv2.resize(image,(3*width, 3*height), interpolation = cv2.INTER_CUBIC)\n",
        "\n",
        "  fig = plt.gcf()\n",
        "  fig.set_size_inches(18, 10)\n",
        "  plt.axis(\"off\")\n",
        "  plt.imshow(cv2.cvtColor(resized_image, cv2.COLOR_BGR2RGB))\n",
        "  #plt.show('')\n"
      ],
      "execution_count": null,
      "outputs": []
    },
    {
      "cell_type": "code",
      "metadata": {
        "id": "9L3vW5B4-0AY"
      },
      "source": [
        "%cd /content/drive/MyDrive/yolo_custom_model_Training\n",
        "!ls"
      ],
      "execution_count": null,
      "outputs": []
    },
    {
      "cell_type": "code",
      "metadata": {
        "id": "k7YlhF6i-yfS"
      },
      "source": [
        "# only works if the training does not get interrupted \n",
        "imShow('chart.png')"
      ],
      "execution_count": null,
      "outputs": []
    },
    {
      "cell_type": "code",
      "metadata": {
        "id": "ALrjL7vdP43h"
      },
      "source": [
        "%cd custom_data\n",
        "\n",
        "!sed -i 's@custom_data@/content/drive/MyDrive/yolo_custom_model_Training/custom_data@' test.txt\n",
        "!sed -i 's@custom_data@/content/drive/MyDrive/yolo_custom_model_Training/custom_data@' train.txt\n",
        "\n",
        "!sed -i 's@custom_data@/content/drive/MyDrive/yolo_custom_model_Training/custom_data@' labelled_data.data\n",
        "!sed -i '5 s@.*@backup = /content/drive/MyDrive/yolo_custom_model_Training/backup/@' labelled_data.data\n",
        "\n",
        "!cat labelled_data.data"
      ],
      "execution_count": null,
      "outputs": []
    },
    {
      "cell_type": "code",
      "metadata": {
        "id": "err_emxaAQmX"
      },
      "source": [
        "%cd /content/drive/My Drive/yolo_custom_model_Training/darknet\n",
        "!chmod +x ./darknet"
      ],
      "execution_count": null,
      "outputs": []
    },
    {
      "cell_type": "markdown",
      "metadata": {
        "id": "dKO_PX7jMvvn"
      },
      "source": [
        "##8.1 Check mAP"
      ]
    },
    {
      "cell_type": "code",
      "metadata": {
        "id": "VFV4Qsww-9Ca"
      },
      "source": [
        "#You can check the mAP for all the saved weights to see which gives the best results\n",
        "\n",
        "!./darknet detector map /content/drive/MyDrive/yolo_custom_model_Training/custom_data/labelled_data.data /content/drive/MyDrive/yolo_custom_model_Training/darknet/cfg/yolov4_custom.cfg /content/drive/MyDrive/yolo_custom_model_Training/backup/yolov4_custom_10000.weights -points 0"
      ],
      "execution_count": null,
      "outputs": []
    },
    {
      "cell_type": "markdown",
      "metadata": {
        "id": "rsizGYBB256f"
      },
      "source": [
        "##9. Test custom Object Detection"
      ]
    },
    {
      "cell_type": "code",
      "metadata": {
        "id": "rABzwnO63B3k"
      },
      "source": [
        "#set your custom cfg to test mode \n",
        "%cd /content/drive/MyDrive/yolo_custom_model_Training/darknet/cfg\n",
        "!sed -i 's/batch=64/batch=1/' yolov4_custom.cfg\n",
        "!sed -i 's/subdivisions=16/subdivisions=1/' yolov4_custom.cfg\n",
        "%cd .."
      ],
      "execution_count": null,
      "outputs": []
    },
    {
      "cell_type": "markdown",
      "metadata": {
        "id": "SV-zLIfyUGp-"
      },
      "source": [
        "##9.1 Run detector on an image"
      ]
    },
    {
      "cell_type": "code",
      "metadata": {
        "id": "HY3vX_rH30gF"
      },
      "source": [
        "# run your custom detector with this command (upload an image to your google drive to test, the thresh flag sets the minimum accuracy required for object detection)\n",
        "\n",
        "!./darknet detector test /content/drive/MyDrive/yolo_custom_model_Training/custom_data/labelled_data.data /content/drive/MyDrive/yolo_custom_model_Training/darknet/cfg/yolov4_custom.cfg /content/drive/MyDrive/yolo_custom_model_Training/backup/yolov4_custom_10000.weights /content/drive/MyDrive/yolo_custom_model_Training/custom_data/1.jpg -thresh 0.3\n",
        "imShow('predictions.jpg')"
      ],
      "execution_count": null,
      "outputs": []
    },
    {
      "cell_type": "markdown",
      "metadata": {
        "id": "0KDp4qNQUgaf"
      },
      "source": [
        "## 9.2 Run detector on a webcam image"
      ]
    },
    {
      "cell_type": "code",
      "metadata": {
        "id": "CnL7LCmk6VZh"
      },
      "source": [
        "#Run detector on images captured by webcam for your custom YOLOv4-tiny trained model\n",
        "from IPython.display import display, Javascript\n",
        "from google.colab.output import eval_js\n",
        "from base64 import b64decode\n",
        "\n",
        "def take_photo(filename='photo.jpg', quality=0.8):\n",
        "  js = Javascript('''\n",
        "    async function takePhoto(quality) {\n",
        "      const div = document.createElement('div');\n",
        "      const capture = document.createElement('button');\n",
        "      capture.textContent = 'Capture';\n",
        "      div.appendChild(capture);\n",
        "\n",
        "      const video = document.createElement('video');\n",
        "      video.style.display = 'block';\n",
        "      const stream = await navigator.mediaDevices.getUserMedia({video: true});\n",
        "\n",
        "      document.body.appendChild(div);\n",
        "      div.appendChild(video);\n",
        "      video.srcObject = stream;\n",
        "      await video.play();\n",
        "\n",
        "      // Resize the output to fit the video element.\n",
        "      google.colab.output.setIframeHeight(document.documentElement.scrollHeight, true);\n",
        "\n",
        "      // Wait for Capture to be clicked.\n",
        "      await new Promise((resolve) => capture.onclick = resolve);\n",
        "\n",
        "      const canvas = document.createElement('canvas');\n",
        "      canvas.width = video.videoWidth;\n",
        "      canvas.height = video.videoHeight;\n",
        "      canvas.getContext('2d').drawImage(video, 0, 0);\n",
        "      stream.getVideoTracks()[0].stop();\n",
        "      div.remove();\n",
        "      return canvas.toDataURL('image/jpeg', quality);\n",
        "    }\n",
        "    ''')\n",
        "  display(js)\n",
        "  data = eval_js('takePhoto({})'.format(quality))\n",
        "  binary = b64decode(data.split(',')[1])\n",
        "  with open(filename, 'wb') as f:\n",
        "    f.write(binary)\n",
        "  return filename\n",
        "\n",
        "from IPython.display import Image\n",
        "try:\n",
        "  filename = take_photo()\n",
        "  print('Saved to {}'.format(filename))\n",
        "  \n",
        "  # Show the image which was just taken.\n",
        "  display(Image(filename))\n",
        "except Exception as err:\n",
        "  # Errors will be thrown if the user does not have a webcam or if they do not\n",
        "  # grant the page permission to access it.\n",
        "  print(str(err))\n",
        "\n",
        "!./darknet detector test /content/drive/MyDrive/yolo_custom_model_Training/custom_data/labelled_data.data /content/drive/MyDrive/yolo_custom_model_Training/darknet/cfg/yolov4_custom.cfg /content/drive/MyDrive/yolo_custom_model_Training/backup/yolov4_custom_10000.weights photo.jpg -thresh 0.5\n",
        "imShow('predictions.jpg')   "
      ],
      "execution_count": null,
      "outputs": []
    },
    {
      "cell_type": "markdown",
      "metadata": {
        "id": "T8e5fgLJ59rR"
      },
      "source": [
        "## 9.3 Run detector on a video"
      ]
    },
    {
      "cell_type": "code",
      "metadata": {
        "id": "KhFOeDI5U5gy"
      },
      "source": [
        "# run your custom detector on a video with this command (upload a video to your google drive to test, the thresh flag sets the minimum accuracy required for object detection).This saves the output video with the detections in your output path\n",
        "\n",
        "#!./darknet detector demo data/obj.data cfg/yolov4-tiny-custom.cfg /mydrive/yolov4-tiny/training/yolov4-tiny-custom_best.weights -dont_show /mydrive/mask_test_videos/test3.mp4 -i 0 -out_filename /mydrive/mask_test_videos/result.avi "
      ],
      "execution_count": null,
      "outputs": []
    },
    {
      "cell_type": "markdown",
      "metadata": {
        "id": "HOsTs85tVACp"
      },
      "source": [
        "## 9.4 Run detector on a live webcam"
      ]
    },
    {
      "cell_type": "code",
      "metadata": {
        "id": "kKxFwq3o6Wp9"
      },
      "source": [
        "# Code from theAIGuysCode Github (https://github.com/theAIGuysCode/YOLOv4-Cloud-Tutorial/blob/master/yolov4_webcam.ipynb)\n",
        "#adjusted for my custom YOLOv4-tiny trained weights, config and obj.data files\n",
        "\n",
        "# import dependencies\n",
        "from IPython.display import display, Javascript, Image\n",
        "from google.colab.output import eval_js\n",
        "from google.colab.patches import cv2_imshow\n",
        "from base64 import b64decode, b64encode\n",
        "import cv2\n",
        "import numpy as np\n",
        "import PIL\n",
        "import io\n",
        "import html\n",
        "import time\n",
        "import matplotlib.pyplot as plt\n",
        "%matplotlib inline\n",
        "\n",
        "\n",
        "# import darknet functions to perform object detections\n",
        "from darknet import *\n",
        "# load in our YOLOv4 architecture network\n",
        "network, class_names, class_colors = load_network(\"/content/drive/MyDrive/yolo_custom_model_Training/darknet/cfg/yolov4_custom.cfg\", \n",
        "                                                  \"/content/drive/MyDrive/yolo_custom_model_Training/custom_data/labelled_data.data\", \n",
        "                                                  \"/content/drive/MyDrive/yolo_custom_model_Training/backup/yolov4_custom_10000.weights\")\n",
        "width = network_width(network)\n",
        "height = network_height(network)\n",
        "\n",
        "# darknet helper function to run detection on image\n",
        "def darknet_helper(img, width, height):\n",
        "  darknet_image = make_image(width, height, 3)\n",
        "  img_rgb = cv2.cvtColor(img, cv2.COLOR_BGR2RGB)\n",
        "  img_resized = cv2.resize(img_rgb, (width, height),\n",
        "                              interpolation=cv2.INTER_LINEAR)\n",
        "\n",
        "  # get image ratios to convert bounding boxes to proper size\n",
        "  img_height, img_width, _ = img.shape\n",
        "  width_ratio = img_width/width\n",
        "  height_ratio = img_height/height\n",
        "\n",
        "  # run model on darknet style image to get detections\n",
        "  copy_image_from_bytes(darknet_image, img_resized.tobytes())\n",
        "  detections = detect_image(network, class_names, darknet_image)\n",
        "  free_image(darknet_image)\n",
        "  return detections, width_ratio, height_ratio\n",
        "\n",
        "# function to convert the JavaScript object into an OpenCV image\n",
        "def js_to_image(js_reply):\n",
        "  \"\"\"\n",
        "  Params:\n",
        "          js_reply: JavaScript object containing image from webcam\n",
        "  Returns:\n",
        "          img: OpenCV BGR image\n",
        "  \"\"\"\n",
        "  # decode base64 image\n",
        "  image_bytes = b64decode(js_reply.split(',')[1])\n",
        "  # convert bytes to numpy array\n",
        "  jpg_as_np = np.frombuffer(image_bytes, dtype=np.uint8)\n",
        "  # decode numpy array into OpenCV BGR image\n",
        "  img = cv2.imdecode(jpg_as_np, flags=1)\n",
        "\n",
        "  return img\n",
        "\n",
        "# function to convert OpenCV Rectangle bounding box image into base64 byte string to be overlayed on video stream\n",
        "def bbox_to_bytes(bbox_array):\n",
        "  \"\"\"\n",
        "  Params:\n",
        "          bbox_array: Numpy array (pixels) containing rectangle to overlay on video stream.\n",
        "  Returns:\n",
        "        bytes: Base64 image byte string\n",
        "  \"\"\"\n",
        "  # convert array into PIL image\n",
        "  bbox_PIL = PIL.Image.fromarray(bbox_array, 'RGBA')\n",
        "  iobuf = io.BytesIO()\n",
        "  # format bbox into png for return\n",
        "  bbox_PIL.save(iobuf, format='png')\n",
        "  # format return string\n",
        "  bbox_bytes = 'data:image/png;base64,{}'.format((str(b64encode(iobuf.getvalue()), 'utf-8')))\n",
        "\n",
        "  return bbox_bytes  \n",
        "\n",
        "# JavaScript to properly create our live video stream using our webcam as input\n",
        "def video_stream():\n",
        "  js = Javascript('''\n",
        "    var video;\n",
        "    var div = null;\n",
        "    var stream;\n",
        "    var captureCanvas;\n",
        "    var imgElement;\n",
        "    var labelElement;\n",
        "    \n",
        "    var pendingResolve = null;\n",
        "    var shutdown = false;\n",
        "    \n",
        "    function removeDom() {\n",
        "       stream.getVideoTracks()[0].stop();\n",
        "       video.remove();\n",
        "       div.remove();\n",
        "       video = null;\n",
        "       div = null;\n",
        "       stream = null;\n",
        "       imgElement = null;\n",
        "       captureCanvas = null;\n",
        "       labelElement = null;\n",
        "    }\n",
        "    \n",
        "    function onAnimationFrame() {\n",
        "      if (!shutdown) {\n",
        "        window.requestAnimationFrame(onAnimationFrame);\n",
        "      }\n",
        "      if (pendingResolve) {\n",
        "        var result = \"\";\n",
        "        if (!shutdown) {\n",
        "          captureCanvas.getContext('2d').drawImage(video, 0, 0, 640, 480);\n",
        "          result = captureCanvas.toDataURL('image/jpeg', 0.8)\n",
        "        }\n",
        "        var lp = pendingResolve;\n",
        "        pendingResolve = null;\n",
        "        lp(result);\n",
        "      }\n",
        "    }\n",
        "    \n",
        "    async function createDom() {\n",
        "      if (div !== null) {\n",
        "        return stream;\n",
        "      }\n",
        "\n",
        "      div = document.createElement('div');\n",
        "      div.style.border = '2px solid black';\n",
        "      div.style.padding = '3px';\n",
        "      div.style.width = '100%';\n",
        "      div.style.maxWidth = '600px';\n",
        "      document.body.appendChild(div);\n",
        "      \n",
        "      const modelOut = document.createElement('div');\n",
        "      modelOut.innerHTML = \"<span>Status:</span>\";\n",
        "      labelElement = document.createElement('span');\n",
        "      labelElement.innerText = 'No data';\n",
        "      labelElement.style.fontWeight = 'bold';\n",
        "      modelOut.appendChild(labelElement);\n",
        "      div.appendChild(modelOut);\n",
        "           \n",
        "      video = document.createElement('video');\n",
        "      video.style.display = 'block';\n",
        "      video.width = div.clientWidth - 6;\n",
        "      video.setAttribute('playsinline', '');\n",
        "      video.onclick = () => { shutdown = true; };\n",
        "      stream = await navigator.mediaDevices.getUserMedia(\n",
        "          {video: { facingMode: \"environment\"}});\n",
        "      div.appendChild(video);\n",
        "\n",
        "      imgElement = document.createElement('img');\n",
        "      imgElement.style.position = 'absolute';\n",
        "      imgElement.style.zIndex = 1;\n",
        "      imgElement.onclick = () => { shutdown = true; };\n",
        "      div.appendChild(imgElement);\n",
        "      \n",
        "      const instruction = document.createElement('div');\n",
        "      instruction.innerHTML = \n",
        "          '<span style=\"color: red; font-weight: bold;\">' +\n",
        "          'When finished, click here or on the video to stop this demo</span>';\n",
        "      div.appendChild(instruction);\n",
        "      instruction.onclick = () => { shutdown = true; };\n",
        "      \n",
        "      video.srcObject = stream;\n",
        "      await video.play();\n",
        "\n",
        "      captureCanvas = document.createElement('canvas');\n",
        "      captureCanvas.width = 640; //video.videoWidth;\n",
        "      captureCanvas.height = 480; //video.videoHeight;\n",
        "      window.requestAnimationFrame(onAnimationFrame);\n",
        "      \n",
        "      return stream;\n",
        "    }\n",
        "    async function stream_frame(label, imgData) {\n",
        "      if (shutdown) {\n",
        "        removeDom();\n",
        "        shutdown = false;\n",
        "        return '';\n",
        "      }\n",
        "\n",
        "      var preCreate = Date.now();\n",
        "      stream = await createDom();\n",
        "      \n",
        "      var preShow = Date.now();\n",
        "      if (label != \"\") {\n",
        "        labelElement.innerHTML = label;\n",
        "      }\n",
        "            \n",
        "      if (imgData != \"\") {\n",
        "        var videoRect = video.getClientRects()[0];\n",
        "        imgElement.style.top = videoRect.top + \"px\";\n",
        "        imgElement.style.left = videoRect.left + \"px\";\n",
        "        imgElement.style.width = videoRect.width + \"px\";\n",
        "        imgElement.style.height = videoRect.height + \"px\";\n",
        "        imgElement.src = imgData;\n",
        "      }\n",
        "      \n",
        "      var preCapture = Date.now();\n",
        "      var result = await new Promise(function(resolve, reject) {\n",
        "        pendingResolve = resolve;\n",
        "      });\n",
        "      shutdown = false;\n",
        "      \n",
        "      return {'create': preShow - preCreate, \n",
        "              'show': preCapture - preShow, \n",
        "              'capture': Date.now() - preCapture,\n",
        "              'img': result};\n",
        "    }\n",
        "    ''')\n",
        "\n",
        "  display(js)\n",
        "  \n",
        "def video_frame(label, bbox):\n",
        "  data = eval_js('stream_frame(\"{}\", \"{}\")'.format(label, bbox))\n",
        "  return data\n",
        "\n",
        "# start streaming video from webcam\n",
        "video_stream()\n",
        "# label for video\n",
        "label_html = 'Capturing...'\n",
        "# initialze bounding box to empty\n",
        "bbox = ''\n",
        "count = 0 \n",
        "while True:\n",
        "    js_reply = video_frame(label_html, bbox)\n",
        "    if not js_reply:\n",
        "        break\n",
        "\n",
        "    # convert JS response to OpenCV Image\n",
        "    frame = js_to_image(js_reply[\"img\"])\n",
        "\n",
        "    # create transparent overlay for bounding box\n",
        "    bbox_array = np.zeros([480,640,4], dtype=np.uint8)\n",
        "\n",
        "    # call our darknet helper on video frame\n",
        "    detections, width_ratio, height_ratio = darknet_helper(frame, width, height)\n",
        "\n",
        "    # loop through detections and draw them on transparent overlay image\n",
        "    for label, confidence, bbox in detections:\n",
        "      left, top, right, bottom = bbox2points(bbox)\n",
        "      left, top, right, bottom = int(left * width_ratio), int(top * height_ratio), int(right * width_ratio), int(bottom * height_ratio)\n",
        "      bbox_array = cv2.rectangle(bbox_array, (left, top), (right, bottom), class_colors[label], 2)\n",
        "      bbox_array = cv2.putText(bbox_array, \"{} [{:.2f}]\".format(label, float(confidence)),\n",
        "                        (left, top - 5), cv2.FONT_HERSHEY_SIMPLEX, 0.5,\n",
        "                        class_colors[label], 2)\n",
        "\n",
        "    bbox_array[:,:,3] = (bbox_array.max(axis = 2) > 0 ).astype(int) * 255\n",
        "    # convert overlay of bbox into bytes\n",
        "    bbox_bytes = bbox_to_bytes(bbox_array)\n",
        "    # update bbox so next frame gets new overlay\n",
        "    bbox = bbox_bytes   "
      ],
      "execution_count": null,
      "outputs": []
    }
  ]
}